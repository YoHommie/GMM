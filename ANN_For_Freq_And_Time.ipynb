{
 "cells": [
  {
   "cell_type": "code",
   "execution_count": null,
   "metadata": {},
   "outputs": [],
   "source": [
    "import pandas as pd\n",
    "import matplotlib.pyplot as plt\n",
    "freqData=pd.read_csv(\"C:/Users/adity/OneDrive/Desktop/Sixth Semester/CE6018 Seismic Data Analytics/Program/Week8/Data folder/Frequency_Envelop.csv\")\n",
    "freqData"
   ]
  },
  {
   "cell_type": "code",
   "execution_count": null,
   "metadata": {},
   "outputs": [],
   "source": [
    "correlation_matrix = freqData.corr()\n",
    "correlation_matrix\n",
    "\n"
   ]
  },
  {
   "cell_type": "code",
   "execution_count": null,
   "metadata": {},
   "outputs": [],
   "source": [
    "col = []\n",
    "for magnitude in freqData[\"Mag\"]:\n",
    "    if 6 <= magnitude <= 7:\n",
    "        col.append('g')\n",
    "    elif 7 < magnitude <= 8:\n",
    "        col.append('r')\n",
    "    elif 5 <= magnitude < 6:\n",
    "        col.append('b')\n",
    "    elif 4 <= magnitude < 5:\n",
    "        col.append('y')\n",
    "    else:\n",
    "        col.append('m')\n",
    "\n",
    "\n"
   ]
  },
  {
   "cell_type": "code",
   "execution_count": null,
   "metadata": {},
   "outputs": [],
   "source": [
    "\n",
    "\n",
    "# import matplotlib.pyplot as plt\n",
    "# import numpy as np\n",
    "\n",
    "# # Sample data\n",
    "# x = np.random.rand(100)\n",
    "# y = np.random.rand(100)\n",
    "# colors = np.random.rand(100)  # Random colors for each point\n",
    "# sizes = 1000 * np.random.rand(100)  # Random sizes for each point\n",
    "\n",
    "# # Single color\n",
    "# # plt.scatter(x, y, color='blue')\n",
    "\n",
    "# # Sequence of colors\n",
    "# # plt.scatter(x, y, c=colors)  # c argument specifies the sequence of colors\n",
    "\n",
    "# # Colormap\n",
    "# plt.scatter(x, y, c=colors, cmap='viridis')  # cmap argument specifies the colormap\n",
    "# print(colors)\n",
    "\n",
    "# plt.colorbar()  # Add colorbar for the last plot\n",
    "# plt.show()"
   ]
  },
  {
   "cell_type": "code",
   "execution_count": null,
   "metadata": {},
   "outputs": [],
   "source": [
    "freqData"
   ]
  },
  {
   "cell_type": "code",
   "execution_count": null,
   "metadata": {},
   "outputs": [],
   "source": [
    "import math as mt\n",
    "\n",
    "Fseries = Y_val[0:6]\n",
    "fig, ax = plt.subplots(ncols=2, nrows=mt.ceil(\n",
    "    len(Fseries)/2), figsize=(25,7.5*(len(Fseries)/2)))\n",
    "ax = ax.flatten()\n",
    "\n",
    "for i in range(len(Fseries)):\n",
    "    ax[i].scatter(freqData['Rjb'],\n",
    "                  freqData[Fseries[i]], c=col, alpha=0.5,marker=\"o\", s=4 )\n",
    "    ax[i].set_xlabel('Rjb')\n",
    "    ax[i].set_ylabel(Fseries[i])\n",
    "    ax[i].set_xscale(\"log\")\n",
    "    # ax[i].set_yscale(\"log\")\n",
    "    ax[i].set_title(f'Rjb vs {Fseries[i]}')\n",
    "\n",
    "plt.show()"
   ]
  },
  {
   "cell_type": "code",
   "execution_count": null,
   "metadata": {},
   "outputs": [],
   "source": [
    "import math as mt\n",
    "# Plot the scatter plot with colors\n",
    "\n",
    "fig, ax = plt.subplots(ncols=2, nrows=mt.ceil(\n",
    "    len(X_val)/2), figsize=(25, 7.5*(len(X_val)/2)))\n",
    "ax = ax.flatten()\n",
    "# ws=\"TimeI_  7\"\n",
    "ws=\"FreI_  8\"\n",
    "for i in range(len(X_val)):\n",
    "    ax[i].scatter(freqData[X_val[i]], freqData[ws], c=\"b\",marker=\"o\", alpha=0.5, s=4)\n",
    "    # ax[i].set_xscale(\"log\")\n",
    "    # ax[i].set_yscale(\"log\")\n",
    "    ax[i].set_ylabel(ws+\" S\")\n",
    "    ax[i].set_xlabel(X_val[i])\n",
    "    ax[i].set_title(f'{X_val[i]} vs {ws} s')\n",
    "\n",
    "plt.show()"
   ]
  },
  {
   "cell_type": "code",
   "execution_count": null,
   "metadata": {},
   "outputs": [],
   "source": [
    "from sklearn.preprocessing import MinMaxScaler\n",
    "import tensorflow as tf\n",
    "from tensorflow.keras import layers, models,optimizers\n",
    "from sklearn.model_selection import train_test_split\n",
    "from tensorflow.keras.callbacks import EarlyStopping\n",
    "\n",
    "import numpy as np\n",
    "\n",
    "\n",
    "\n",
    "#Normalizing the data\n",
    "scalerX = MinMaxScaler()\n",
    "scalerY = MinMaxScaler()\n",
    "X_normalized = scalerX.fit_transform(Xreq)\n",
    "Y_normalized = scalerY.fit_transform(Yreq)\n",
    "\n",
    "# Split the data into training, validation, and test sets\n",
    "X_train, X_temp, y_train, y_temp = train_test_split(X_normalized, Y_normalized, test_size=0.2, random_state=42)\n",
    "X_val, X_test, y_val, y_test = train_test_split(X_temp, y_temp, test_size=0.25, random_state=42)\n",
    "\n",
    "# Define the neural network architecture\n",
    "model = models.Sequential()\n",
    "\n",
    "# Input layer with 4 neurons\n",
    "model.add(layers.InputLayer(input_shape=(X_train.shape[1],),name=\"inputLayer\"))\n",
    "\n",
    "# Hidden layers with 6 neurons each (2 hidden layers)\n",
    "# for i in range(2):\n",
    "#     model.add(layers.Dense(6, activation='relu', name=f\"{i}_layer\"))\n",
    "model.add(layers.Dense(25, activation='relu', name=\"hidden_layer_1\"))\n",
    "model.add(layers.Dense(25, activation='relu', name=\"hidden_layer_2\"))\n",
    "# model.add(layers.Dense(25, activation='relu', name=\"hidden_layer_2\"))\n",
    "\n",
    "# Output layer with 51 neurons for multi-class regression\n",
    "model.add(layers.Dense(y_train.shape[1], activation='linear',name=\"Output\"))\n",
    "\n",
    "# Compile the model\n",
    "model.compile(optimizer=optimizers.Adam(learning_rate=0.001),  # You can choose other optimizers as well\n",
    "              loss='mean_squared_error',  # Use appropriate loss function for regression\n",
    "              metrics=['mae'])  # Use appropriate metrics for regression\n",
    "\n",
    "# Display the model summary\n",
    "model.summary()\n",
    "# early_stopping = EarlyStopping(\n",
    "#     monitor='val_loss', patience=10, restore_best_weights=True)\n",
    "\n",
    "\n",
    "# Train the model using the training set and validate on the validation set\n",
    "# history = model.fit(X_train, y_train, epochs=500, batch_size=32, validation_data=(X_val, y_val),callbacks=[early_stopping])\n",
    "history = model.fit(X_train, y_train, epochs=500, batch_size=32, validation_data=(X_val, y_val))\n",
    "\n",
    "# Evaluate the model on the test set\n",
    "test_loss, test_mae = model.evaluate(X_test, y_test)\n",
    "print(f\"Test Loss: {test_loss}, Test MAE: {test_mae}\")\n"
   ]
  },
  {
   "cell_type": "code",
   "execution_count": null,
   "metadata": {},
   "outputs": [],
   "source": [
    "X_train.shape\n",
    "len(y_train)"
   ]
  },
  {
   "cell_type": "code",
   "execution_count": null,
   "metadata": {},
   "outputs": [],
   "source": [
    "plt.plot(history.history['loss'])\n",
    "plt.title('Training Loss Over Epochs')\n",
    "plt.xlabel('Epochs')\n",
    "plt.ylabel('Mean Squared Error')\n",
    "plt.show()"
   ]
  },
  {
   "cell_type": "code",
   "execution_count": null,
   "metadata": {},
   "outputs": [],
   "source": [
    "# Plot training and validation loss\n",
    "plt.figure(figsize=(12, 6))\n",
    "plt.subplot(1, 2, 1)\n",
    "plt.plot(history.history['loss'], label='Training Loss')\n",
    "plt.plot(history.history['val_loss'], label='Validation Loss')\n",
    "plt.title('Training and Validation Loss')\n",
    "plt.xlabel('Epoch')\n",
    "plt.ylabel('Loss')\n",
    "plt.legend()\n",
    "\n",
    "# Plot training and validation MAE\n",
    "plt.subplot(1, 2, 2)\n",
    "plt.plot(history.history['mae'], label='Training MAE')\n",
    "plt.plot(history.history['val_mae'], label='Validation MAE')\n",
    "plt.title('Training and Validation MAE')\n",
    "plt.xlabel('Epoch')\n",
    "plt.ylabel('MAE')\n",
    "plt.legend()\n",
    "\n",
    "plt.tight_layout()\n",
    "plt.show()\n"
   ]
  },
  {
   "cell_type": "code",
   "execution_count": null,
   "metadata": {},
   "outputs": [],
   "source": [
    "#saving the model \n",
    "model.save(\"C:/Users/adity/OneDrive/Desktop/Sixth Semester/CE6018 Seismic Data Analytics/Program/Week8/Data folder/Model.keras\")\n"
   ]
  },
  {
   "cell_type": "code",
   "execution_count": null,
   "metadata": {},
   "outputs": [],
   "source": [
    "# Load the model\n",
    "model = models.load_model(\"C:/Users/adity/OneDrive/Desktop/Sixth Semester/CE6018 Seismic Data Analytics/Program/Week8/Data folder/Model.keras\")\n",
    "\n",
    "# Make predictions on new data\n",
    "predictions = model.predict(X_test)\n",
    "\n",
    "\n",
    "# Calculate evaluation metrics\n",
    "from sklearn.metrics import r2_score\n",
    "from sklearn.metrics import mean_absolute_error, mean_squared_error\n",
    "mae = mean_absolute_error(y_test, predictions)\n",
    "mse = mean_squared_error(y_test, predictions)\n",
    "rmse = np.sqrt(mse)\n",
    "rsquared = r2_score(y_test, predictions)\n",
    "\n",
    "print(\"Mean Absolute Error (MAE):\", mae)\n",
    "print(\"Mean Squared Error (MSE):\", mse)\n",
    "print(\"Root Mean Squared Error (RMSE):\", rmse)\n",
    "print(\"R-squared:\", rsquared)\n",
    "\n",
    "X_test=scalerX.inverse_transform(X_test)\n",
    "predictions=scalerY.inverse_transform(predictions)\n",
    "y_test=scalerY.inverse_transform(y_test)\n",
    "predictions_df= pd.DataFrame(np.array(predictions),columns=Yreq.columns)\n",
    "predictions_df"
   ]
  },
  {
   "cell_type": "code",
   "execution_count": null,
   "metadata": {},
   "outputs": [],
   "source": [
    "Fseries = list(predictions_df.columns)\n",
    "for i in range(predictions.shape[1]):\n",
    "    plt.scatter(y_test[:, i], predictions[:, i], label=Fseries[i])\n",
    "    plt.xlabel('Actual Values')\n",
    "    plt.ylabel('Predicted Values')\n",
    "    plt.title(f'Scatter plot for {Fseries[i]}')\n",
    "    plt.legend()\n",
    "    plt.grid(True)\n",
    "    plt.show()\n",
    "    # plt.savefig(f\"C:/Users/adity/OneDrive/Desktop/Sixth Semester/CE6018 Seismic Data Analytics/Program/Week8/PredVsActualPlot/Scatter plot for {Fseries[i]}.png\")\n",
    "# print(predictions_df.shape)\n",
    "# print(y_test.shape)"
   ]
  },
  {
   "cell_type": "code",
   "execution_count": null,
   "metadata": {},
   "outputs": [],
   "source": [
    "#calculating the residual plot for the model\n",
    "residuals = y_test - predictions\n",
    "residuals_df = pd.DataFrame(residuals, columns=Yreq.columns)\n",
    "\n",
    "for i in range(len(Fseries)):\n",
    "    plt.scatter(y_test[:, i], residuals[:, i],c='b', alpha=0.5,marker=\"o\", s=4 )\n",
    "    plt.xlabel('Actual Values')\n",
    "    plt.ylabel('Residuals')\n",
    "    plt.title(f'Residual plot for {Fseries[i]}')\n",
    "    plt.grid(True)\n",
    "    plt.show()\n",
    "    # plt.savefig(f\"C:/Users/adity/OneDrive/Desktop/Sixth Semester/CE6018 Seismic Data Analytics/Program/Week8/ResidualPlot/Residual plot for {Fseries[i]}.png\")\n",
    "\n"
   ]
  },
  {
   "cell_type": "code",
   "execution_count": null,
   "metadata": {},
   "outputs": [],
   "source": [
    "#plotting the residual distribution with respect to prdicted values\n",
    "for i in range(len(Fseries)):\n",
    "    plt.scatter(predictions[:, i], residuals[:, i],c='b', alpha=0.5,marker=\"o\", s=4 )\n",
    "    plt.xlabel('Predicted Values')\n",
    "    plt.ylabel('Residuals')\n",
    "    plt.title(f'Residual plot for {Fseries[i]}')\n",
    "    plt.grid(True)\n",
    "    plt.show()\n",
    "    # plt.savefig(f\"C:/Users/adity/OneDrive/Desktop/Sixth Semester/CE6018 Seismic Data Analytics/Program/Week8/ResidualPlot/Residual plot for {Fseries[i]}.png\")"
   ]
  },
  {
   "cell_type": "code",
   "execution_count": null,
   "metadata": {},
   "outputs": [],
   "source": [
    "#Plotting the residual distribution with respect to Rjb\n",
    "for i in range(len(Fseries)):\n",
    "    plt.scatter(X_test[:, 1], residuals[:, i],c='b', alpha=0.5,marker=\"o\", s=4 )\n",
    "    plt.xlabel('Rjb')\n",
    "    plt.ylabel('Residuals')\n",
    "    plt.title(f'Residual plot for {Fseries[i]}')\n",
    "    plt.grid(True)\n",
    "    plt.show()\n",
    "    # plt.savefig(f\"C:/Users/adity/OneDrive/Desktop/Sixth Semester/CE6018 Seismic Data Analytics/Program/Week8/ResidualPlot/Residual plot for {Fseries[i]}.png\")"
   ]
  }
 ],
 "metadata": {
  "kernelspec": {
   "display_name": "Python 3",
   "language": "python",
   "name": "python3"
  },
  "language_info": {
   "codemirror_mode": {
    "name": "ipython",
    "version": 3
   },
   "file_extension": ".py",
   "mimetype": "text/x-python",
   "name": "python",
   "nbconvert_exporter": "python",
   "pygments_lexer": "ipython3",
   "version": "3.11.4"
  }
 },
 "nbformat": 4,
 "nbformat_minor": 2
}
